{
 "cells": [
  {
   "cell_type": "code",
   "execution_count": 86,
   "id": "c9a7f568-529f-4602-ac1a-6dabd4906a7c",
   "metadata": {},
   "outputs": [],
   "source": [
    "import pandas as pd\n",
    "import numpy as np\n",
    "import matplotlib.pyplot as plt\n",
    "import seaborn as sns"
   ]
  },
  {
   "cell_type": "markdown",
   "id": "6433856b-8cb3-419e-be73-5adb4fe59e4e",
   "metadata": {},
   "source": [
    "### Reading The data"
   ]
  },
  {
   "cell_type": "code",
   "execution_count": 87,
   "id": "f9fcfbf9-a0e7-4bb7-ae5b-c5181cba4495",
   "metadata": {},
   "outputs": [
    {
     "data": {
      "text/html": [
       "<div>\n",
       "<style scoped>\n",
       "    .dataframe tbody tr th:only-of-type {\n",
       "        vertical-align: middle;\n",
       "    }\n",
       "\n",
       "    .dataframe tbody tr th {\n",
       "        vertical-align: top;\n",
       "    }\n",
       "\n",
       "    .dataframe thead th {\n",
       "        text-align: right;\n",
       "    }\n",
       "</style>\n",
       "<table border=\"1\" class=\"dataframe\">\n",
       "  <thead>\n",
       "    <tr style=\"text-align: right;\">\n",
       "      <th></th>\n",
       "      <th>FIRST NAME</th>\n",
       "      <th>LAST NAME</th>\n",
       "      <th>SEX</th>\n",
       "      <th>DOJ</th>\n",
       "      <th>CURRENT DATE</th>\n",
       "      <th>DESIGNATION</th>\n",
       "      <th>AGE</th>\n",
       "      <th>SALARY</th>\n",
       "      <th>UNIT</th>\n",
       "      <th>LEAVES USED</th>\n",
       "      <th>LEAVES REMAINING</th>\n",
       "      <th>RATINGS</th>\n",
       "      <th>PAST EXP</th>\n",
       "    </tr>\n",
       "  </thead>\n",
       "  <tbody>\n",
       "    <tr>\n",
       "      <th>0</th>\n",
       "      <td>TOMASA</td>\n",
       "      <td>ARMEN</td>\n",
       "      <td>F</td>\n",
       "      <td>5-18-2014</td>\n",
       "      <td>01-07-2016</td>\n",
       "      <td>Analyst</td>\n",
       "      <td>21.0</td>\n",
       "      <td>44570</td>\n",
       "      <td>Finance</td>\n",
       "      <td>24.0</td>\n",
       "      <td>6.0</td>\n",
       "      <td>2.0</td>\n",
       "      <td>0</td>\n",
       "    </tr>\n",
       "    <tr>\n",
       "      <th>1</th>\n",
       "      <td>ANNIE</td>\n",
       "      <td>NaN</td>\n",
       "      <td>F</td>\n",
       "      <td>NaN</td>\n",
       "      <td>01-07-2016</td>\n",
       "      <td>Associate</td>\n",
       "      <td>NaN</td>\n",
       "      <td>89207</td>\n",
       "      <td>Web</td>\n",
       "      <td>NaN</td>\n",
       "      <td>13.0</td>\n",
       "      <td>NaN</td>\n",
       "      <td>7</td>\n",
       "    </tr>\n",
       "    <tr>\n",
       "      <th>2</th>\n",
       "      <td>OLIVE</td>\n",
       "      <td>ANCY</td>\n",
       "      <td>F</td>\n",
       "      <td>7-28-2014</td>\n",
       "      <td>01-07-2016</td>\n",
       "      <td>Analyst</td>\n",
       "      <td>21.0</td>\n",
       "      <td>40955</td>\n",
       "      <td>Finance</td>\n",
       "      <td>23.0</td>\n",
       "      <td>7.0</td>\n",
       "      <td>3.0</td>\n",
       "      <td>0</td>\n",
       "    </tr>\n",
       "    <tr>\n",
       "      <th>3</th>\n",
       "      <td>CHERRY</td>\n",
       "      <td>AQUILAR</td>\n",
       "      <td>F</td>\n",
       "      <td>04-03-2013</td>\n",
       "      <td>01-07-2016</td>\n",
       "      <td>Analyst</td>\n",
       "      <td>22.0</td>\n",
       "      <td>45550</td>\n",
       "      <td>IT</td>\n",
       "      <td>22.0</td>\n",
       "      <td>8.0</td>\n",
       "      <td>3.0</td>\n",
       "      <td>0</td>\n",
       "    </tr>\n",
       "    <tr>\n",
       "      <th>4</th>\n",
       "      <td>LEON</td>\n",
       "      <td>ABOULAHOUD</td>\n",
       "      <td>M</td>\n",
       "      <td>11-20-2014</td>\n",
       "      <td>01-07-2016</td>\n",
       "      <td>Analyst</td>\n",
       "      <td>NaN</td>\n",
       "      <td>43161</td>\n",
       "      <td>Operations</td>\n",
       "      <td>27.0</td>\n",
       "      <td>3.0</td>\n",
       "      <td>NaN</td>\n",
       "      <td>3</td>\n",
       "    </tr>\n",
       "  </tbody>\n",
       "</table>\n",
       "</div>"
      ],
      "text/plain": [
       "  FIRST NAME   LAST NAME SEX         DOJ CURRENT DATE DESIGNATION   AGE  \\\n",
       "0     TOMASA       ARMEN   F   5-18-2014   01-07-2016     Analyst  21.0   \n",
       "1      ANNIE         NaN   F         NaN   01-07-2016   Associate   NaN   \n",
       "2      OLIVE        ANCY   F   7-28-2014   01-07-2016     Analyst  21.0   \n",
       "3     CHERRY     AQUILAR   F  04-03-2013   01-07-2016     Analyst  22.0   \n",
       "4       LEON  ABOULAHOUD   M  11-20-2014   01-07-2016     Analyst   NaN   \n",
       "\n",
       "   SALARY        UNIT  LEAVES USED  LEAVES REMAINING  RATINGS  PAST EXP  \n",
       "0   44570     Finance         24.0               6.0      2.0         0  \n",
       "1   89207         Web          NaN              13.0      NaN         7  \n",
       "2   40955     Finance         23.0               7.0      3.0         0  \n",
       "3   45550          IT         22.0               8.0      3.0         0  \n",
       "4   43161  Operations         27.0               3.0      NaN         3  "
      ]
     },
     "execution_count": 87,
     "metadata": {},
     "output_type": "execute_result"
    }
   ],
   "source": [
    "data = pd.read_csv(\"Salary Prediction of Data Professions.csv\")\n",
    "data.head()"
   ]
  },
  {
   "cell_type": "code",
   "execution_count": 88,
   "id": "7690b1fc-65d0-4d88-ae04-1b1aed1f67eb",
   "metadata": {},
   "outputs": [
    {
     "data": {
      "text/plain": [
       "(2639, 13)"
      ]
     },
     "execution_count": 88,
     "metadata": {},
     "output_type": "execute_result"
    }
   ],
   "source": [
    "# Number of Rows and Coulmns in the data\n",
    "data.shape"
   ]
  },
  {
   "cell_type": "markdown",
   "id": "8a2c7d7d-f69d-423b-8ab8-69a7274b910a",
   "metadata": {},
   "source": [
    "### Columns datatype"
   ]
  },
  {
   "cell_type": "code",
   "execution_count": 89,
   "id": "6821ff1d-aab0-4761-b0f2-74dc7cb8130a",
   "metadata": {},
   "outputs": [
    {
     "data": {
      "text/plain": [
       "FIRST NAME           object\n",
       "LAST NAME            object\n",
       "SEX                  object\n",
       "DOJ                  object\n",
       "CURRENT DATE         object\n",
       "DESIGNATION          object\n",
       "AGE                 float64\n",
       "SALARY                int64\n",
       "UNIT                 object\n",
       "LEAVES USED         float64\n",
       "LEAVES REMAINING    float64\n",
       "RATINGS             float64\n",
       "PAST EXP              int64\n",
       "dtype: object"
      ]
     },
     "execution_count": 89,
     "metadata": {},
     "output_type": "execute_result"
    }
   ],
   "source": [
    "data.dtypes"
   ]
  },
  {
   "cell_type": "code",
   "execution_count": 90,
   "id": "6f1dbae4-52a8-46ff-b9c3-e5d09d09220d",
   "metadata": {},
   "outputs": [
    {
     "name": "stdout",
     "output_type": "stream",
     "text": [
      "<class 'pandas.core.frame.DataFrame'>\n",
      "RangeIndex: 2639 entries, 0 to 2638\n",
      "Data columns (total 13 columns):\n",
      " #   Column            Non-Null Count  Dtype  \n",
      "---  ------            --------------  -----  \n",
      " 0   FIRST NAME        2639 non-null   object \n",
      " 1   LAST NAME         2637 non-null   object \n",
      " 2   SEX               2639 non-null   object \n",
      " 3   DOJ               2638 non-null   object \n",
      " 4   CURRENT DATE      2639 non-null   object \n",
      " 5   DESIGNATION       2639 non-null   object \n",
      " 6   AGE               2636 non-null   float64\n",
      " 7   SALARY            2639 non-null   int64  \n",
      " 8   UNIT              2639 non-null   object \n",
      " 9   LEAVES USED       2636 non-null   float64\n",
      " 10  LEAVES REMAINING  2637 non-null   float64\n",
      " 11  RATINGS           2637 non-null   float64\n",
      " 12  PAST EXP          2639 non-null   int64  \n",
      "dtypes: float64(4), int64(2), object(7)\n",
      "memory usage: 268.2+ KB\n"
     ]
    }
   ],
   "source": [
    "data.info()"
   ]
  },
  {
   "cell_type": "markdown",
   "id": "59a27059-4be9-4249-8cf6-96b702ef54c0",
   "metadata": {},
   "source": [
    "# 1. Exploratory Data Analysis (EDA):"
   ]
  },
  {
   "cell_type": "code",
   "execution_count": 91,
   "id": "52d91061-38fc-4abb-a9ba-9cf36143e02f",
   "metadata": {},
   "outputs": [
    {
     "data": {
      "text/html": [
       "<div>\n",
       "<style scoped>\n",
       "    .dataframe tbody tr th:only-of-type {\n",
       "        vertical-align: middle;\n",
       "    }\n",
       "\n",
       "    .dataframe tbody tr th {\n",
       "        vertical-align: top;\n",
       "    }\n",
       "\n",
       "    .dataframe thead th {\n",
       "        text-align: right;\n",
       "    }\n",
       "</style>\n",
       "<table border=\"1\" class=\"dataframe\">\n",
       "  <thead>\n",
       "    <tr style=\"text-align: right;\">\n",
       "      <th></th>\n",
       "      <th>AGE</th>\n",
       "      <th>SALARY</th>\n",
       "      <th>LEAVES USED</th>\n",
       "      <th>LEAVES REMAINING</th>\n",
       "      <th>RATINGS</th>\n",
       "      <th>PAST EXP</th>\n",
       "    </tr>\n",
       "  </thead>\n",
       "  <tbody>\n",
       "    <tr>\n",
       "      <th>count</th>\n",
       "      <td>2636.000000</td>\n",
       "      <td>2639.000000</td>\n",
       "      <td>2636.000000</td>\n",
       "      <td>2637.000000</td>\n",
       "      <td>2637.000000</td>\n",
       "      <td>2639.000000</td>\n",
       "    </tr>\n",
       "    <tr>\n",
       "      <th>mean</th>\n",
       "      <td>24.756449</td>\n",
       "      <td>58136.678287</td>\n",
       "      <td>22.501517</td>\n",
       "      <td>7.503223</td>\n",
       "      <td>3.486159</td>\n",
       "      <td>1.566881</td>\n",
       "    </tr>\n",
       "    <tr>\n",
       "      <th>std</th>\n",
       "      <td>3.908228</td>\n",
       "      <td>36876.956944</td>\n",
       "      <td>4.604469</td>\n",
       "      <td>4.603193</td>\n",
       "      <td>1.114933</td>\n",
       "      <td>2.728416</td>\n",
       "    </tr>\n",
       "    <tr>\n",
       "      <th>min</th>\n",
       "      <td>21.000000</td>\n",
       "      <td>40001.000000</td>\n",
       "      <td>15.000000</td>\n",
       "      <td>0.000000</td>\n",
       "      <td>2.000000</td>\n",
       "      <td>0.000000</td>\n",
       "    </tr>\n",
       "    <tr>\n",
       "      <th>25%</th>\n",
       "      <td>22.000000</td>\n",
       "      <td>43418.000000</td>\n",
       "      <td>19.000000</td>\n",
       "      <td>4.000000</td>\n",
       "      <td>2.000000</td>\n",
       "      <td>0.000000</td>\n",
       "    </tr>\n",
       "    <tr>\n",
       "      <th>50%</th>\n",
       "      <td>24.000000</td>\n",
       "      <td>46781.000000</td>\n",
       "      <td>22.000000</td>\n",
       "      <td>8.000000</td>\n",
       "      <td>3.000000</td>\n",
       "      <td>1.000000</td>\n",
       "    </tr>\n",
       "    <tr>\n",
       "      <th>75%</th>\n",
       "      <td>25.000000</td>\n",
       "      <td>51401.500000</td>\n",
       "      <td>26.000000</td>\n",
       "      <td>11.000000</td>\n",
       "      <td>4.000000</td>\n",
       "      <td>2.000000</td>\n",
       "    </tr>\n",
       "    <tr>\n",
       "      <th>max</th>\n",
       "      <td>45.000000</td>\n",
       "      <td>388112.000000</td>\n",
       "      <td>30.000000</td>\n",
       "      <td>15.000000</td>\n",
       "      <td>5.000000</td>\n",
       "      <td>23.000000</td>\n",
       "    </tr>\n",
       "  </tbody>\n",
       "</table>\n",
       "</div>"
      ],
      "text/plain": [
       "               AGE         SALARY  LEAVES USED  LEAVES REMAINING      RATINGS  \\\n",
       "count  2636.000000    2639.000000  2636.000000       2637.000000  2637.000000   \n",
       "mean     24.756449   58136.678287    22.501517          7.503223     3.486159   \n",
       "std       3.908228   36876.956944     4.604469          4.603193     1.114933   \n",
       "min      21.000000   40001.000000    15.000000          0.000000     2.000000   \n",
       "25%      22.000000   43418.000000    19.000000          4.000000     2.000000   \n",
       "50%      24.000000   46781.000000    22.000000          8.000000     3.000000   \n",
       "75%      25.000000   51401.500000    26.000000         11.000000     4.000000   \n",
       "max      45.000000  388112.000000    30.000000         15.000000     5.000000   \n",
       "\n",
       "          PAST EXP  \n",
       "count  2639.000000  \n",
       "mean      1.566881  \n",
       "std       2.728416  \n",
       "min       0.000000  \n",
       "25%       0.000000  \n",
       "50%       1.000000  \n",
       "75%       2.000000  \n",
       "max      23.000000  "
      ]
     },
     "execution_count": 91,
     "metadata": {},
     "output_type": "execute_result"
    }
   ],
   "source": [
    "data.describe()"
   ]
  },
  {
   "cell_type": "code",
   "execution_count": 92,
   "id": "1be10d2b-cc5d-4481-9362-5ed21b781c4c",
   "metadata": {},
   "outputs": [
    {
     "name": "stderr",
     "output_type": "stream",
     "text": [
      "C:\\Users\\El_Gohary\\anaconda3\\Lib\\site-packages\\seaborn\\_oldcore.py:1119: FutureWarning: use_inf_as_na option is deprecated and will be removed in a future version. Convert inf values to NaN before operating instead.\n",
      "  with pd.option_context('mode.use_inf_as_na', True):\n"
     ]
    },
    {
     "data": {
      "image/png": "[encoded data removed]",
      "text/plain": [
       "<Figure size 2000x800 with 2 Axes>"
      ]
     },
     "metadata": {},
     "output_type": "display_data"
    }
   ],
   "source": [
    "plt.figure(figsize=(20,8))\n",
    "\n",
    "plt.subplot(1,2,1)\n",
    "plt.title('Salary Distribution Plot')\n",
    "sns.histplot(data.SALARY)\n",
    "\n",
    "plt.subplot(1,2,2)\n",
    "plt.title('Salary Spread')\n",
    "sns.boxplot(y=data.SALARY)\n",
    "\n",
    "plt.show()"
   ]
  },
  {
   "cell_type": "markdown",
   "id": "1c104261-99d0-416e-abf5-c97cb48a11ce",
   "metadata": {},
   "source": [
    "## inferance\n",
    "##### The plot refers that the most salary in the data are in range betweenn (40000 - 50000)"
   ]
  },
  {
   "cell_type": "code",
   "execution_count": 93,
   "id": "223d7db5-1778-48d1-a5ca-ec43bd294466",
   "metadata": {},
   "outputs": [
    {
     "data": {
      "text/plain": [
       "Index(['FIRST NAME', 'LAST NAME', 'SEX', 'DOJ', 'CURRENT DATE', 'DESIGNATION',\n",
       "       'AGE', 'SALARY', 'UNIT', 'LEAVES USED', 'LEAVES REMAINING', 'RATINGS',\n",
       "       'PAST EXP'],\n",
       "      dtype='object')"
      ]
     },
     "execution_count": 93,
     "metadata": {},
     "output_type": "execute_result"
    }
   ],
   "source": [
    "data.columns"
   ]
  },
  {
   "cell_type": "code",
   "execution_count": 94,
   "id": "5098016f-5fef-4734-b3e8-c19e5c4c6cac",
   "metadata": {},
   "outputs": [
    {
     "data": {
      "image/png": "[encoded data removed]",
      "text/plain": [
       "<Figure size 2500x600 with 3 Axes>"
      ]
     },
     "metadata": {},
     "output_type": "display_data"
    }
   ],
   "source": [
    "plt.figure(figsize=(25,6))\n",
    "\n",
    "plt.subplot(1,3,1)\n",
    "plt1 =data.DESIGNATION.value_counts().plot(kind='bar')\n",
    "plt.title('DESIGNATION Histogram')\n",
    "plt1.set(xlabel='Job tittle' , ylabel= 'ferquancy of DESIGNATION')\n",
    "\n",
    "\n",
    "plt.subplot(1,3,2)\n",
    "plt2 =data.UNIT.value_counts().plot(kind='bar')\n",
    "plt.title('UNIT Histogram')\n",
    "plt2.set(xlabel='Unit' , ylabel= 'ferquancy of UNIT')\n",
    "\n",
    "plt.subplot(1,3,3)\n",
    "plt3 =data.SEX.value_counts().plot(kind='bar')\n",
    "plt.title('Sex Histogram')\n",
    "plt3.set(xlabel='Sex' , ylabel= 'ferquancy ofcarbody')\n",
    "\n",
    "plt.show()"
   ]
  },
  {
   "cell_type": "markdown",
   "id": "90fc51c7-b11c-4494-a560-cb4b4592e4fb",
   "metadata": {},
   "source": [
    "### inferance\n",
    "###### 1- most of jobs is analyist\n",
    "###### 2- There is no gap in units --> same number of prople almost\n",
    "###### 3 - The number of Male and Female is almost the same"
   ]
  },
  {
   "cell_type": "code",
   "execution_count": 95,
   "id": "f5206468-6189-4f8d-89ac-6a61da09cb8b",
   "metadata": {},
   "outputs": [],
   "source": [
    "## show Relation between the DESIGNATION and the Salary"
   ]
  },
  {
   "cell_type": "code",
   "execution_count": 96,
   "id": "2866511d-de0d-42ac-a735-37d00f3b098b",
   "metadata": {},
   "outputs": [
    {
     "data": {
      "image/png": "[encoded data removed]",
      "text/plain": [
       "<Figure size 640x480 with 1 Axes>"
      ]
     },
     "metadata": {},
     "output_type": "display_data"
    }
   ],
   "source": [
    "df = pd.DataFrame( data.groupby(['DESIGNATION'])['SALARY'].mean().sort_values(ascending = False) )\n",
    "df.plot.bar()\n",
    "plt.show()"
   ]
  },
  {
   "cell_type": "markdown",
   "id": "9a641f52-9882-4c78-92c8-ec9ce4efb24f",
   "metadata": {},
   "source": [
    "### inferance\n",
    "###### 1- The Highest Salary is Dirctors howver they are the less people\n",
    "###### 2- The Lowest Salary is Analyst howver they are the more people"
   ]
  },
  {
   "cell_type": "code",
   "execution_count": 97,
   "id": "e1b1db78-ea8a-4eee-9639-9cbb700a8bf4",
   "metadata": {},
   "outputs": [
    {
     "data": {
      "image/png": "[encoded data removed]",
      "text/plain": [
       "<Figure size 640x480 with 1 Axes>"
      ]
     },
     "metadata": {},
     "output_type": "display_data"
    }
   ],
   "source": [
    "df = pd.DataFrame( data.groupby(['DESIGNATION'])['AGE'].mean().sort_values(ascending = False) )\n",
    "df.plot.bar()\n",
    "plt.show()"
   ]
  },
  {
   "cell_type": "markdown",
   "id": "3ee17637-2363-4496-b5f6-09363820e9f0",
   "metadata": {},
   "source": [
    "### inferance\n",
    "###### 1- The Directors's age is the highest age in all empolyees\n"
   ]
  },
  {
   "cell_type": "code",
   "execution_count": 98,
   "id": "368fac1d-917d-44a6-bb78-f533daf920cc",
   "metadata": {},
   "outputs": [
    {
     "data": {
      "image/png": "[encoded data removed]",
      "text/plain": [
       "<Figure size 1000x2000 with 5 Axes>"
      ]
     },
     "metadata": {},
     "output_type": "display_data"
    }
   ],
   "source": [
    "def scatter(x, fig ):\n",
    "    plt.subplot(5,2,fig)\n",
    "    plt.s(data[x],data.SALARY)\n",
    "    plt.title(x+\" vs Salary\")\n",
    "    plt.xlabel(x)\n",
    "    plt.ylabel(\"Salary\")\n",
    "plt.figure(figsize=(10,20))\n",
    "scatter('AGE', 1 )\n",
    "scatter('RATINGS', 2 )\n",
    "scatter('PAST EXP', 3 )\n",
    "scatter('LEAVES REMAINING', 4 )\n",
    "scatter('LEAVES USED', 5 )\n",
    "plt.tight_layout()"
   ]
  },
  {
   "cell_type": "markdown",
   "id": "c487114b-0938-4b71-89bb-4079de66cf3f",
   "metadata": {},
   "source": [
    "### inferance\n",
    "###### 1- There is a Posative Correlation between AGE and Salary\n",
    "###### 2- There is a Posative Correlation between PAST EXP and Salary\n",
    "###### 3 - There is a No Correlation between RATINGS and Salary\n",
    "###### 3 - There is a No Correlation between LEAVES REMAINING and Salary"
   ]
  },
  {
   "cell_type": "code",
   "execution_count": null,
   "id": "4c3ff033-6403-4def-ad71-90227e5fd800",
   "metadata": {},
   "outputs": [],
   "source": []
  },
  {
   "cell_type": "markdown",
   "id": "3679db66-2506-4945-a1da-c8f1238a056a",
   "metadata": {},
   "source": [
    "# 2- Feature Engineering"
   ]
  },
  {
   "cell_type": "code",
   "execution_count": 99,
   "id": "4ff04432-fb5e-446f-8369-9a72bfb760fe",
   "metadata": {},
   "outputs": [
    {
     "name": "stdout",
     "output_type": "stream",
     "text": [
      "(2639, 14)\n"
     ]
    },
    {
     "data": {
      "text/html": [
       "<div>\n",
       "<style scoped>\n",
       "    .dataframe tbody tr th:only-of-type {\n",
       "        vertical-align: middle;\n",
       "    }\n",
       "\n",
       "    .dataframe tbody tr th {\n",
       "        vertical-align: top;\n",
       "    }\n",
       "\n",
       "    .dataframe thead th {\n",
       "        text-align: right;\n",
       "    }\n",
       "</style>\n",
       "<table border=\"1\" class=\"dataframe\">\n",
       "  <thead>\n",
       "    <tr style=\"text-align: right;\">\n",
       "      <th></th>\n",
       "      <th>FIRST NAME</th>\n",
       "      <th>LAST NAME</th>\n",
       "      <th>SEX</th>\n",
       "      <th>DOJ</th>\n",
       "      <th>CURRENT DATE</th>\n",
       "      <th>DESIGNATION</th>\n",
       "      <th>AGE</th>\n",
       "      <th>SALARY</th>\n",
       "      <th>UNIT</th>\n",
       "      <th>LEAVES USED</th>\n",
       "      <th>LEAVES REMAINING</th>\n",
       "      <th>RATINGS</th>\n",
       "      <th>PAST EXP</th>\n",
       "      <th>Full_Name</th>\n",
       "    </tr>\n",
       "  </thead>\n",
       "  <tbody>\n",
       "    <tr>\n",
       "      <th>0</th>\n",
       "      <td>TOMASA</td>\n",
       "      <td>ARMEN</td>\n",
       "      <td>F</td>\n",
       "      <td>5-18-2014</td>\n",
       "      <td>01-07-2016</td>\n",
       "      <td>Analyst</td>\n",
       "      <td>21.0</td>\n",
       "      <td>44570</td>\n",
       "      <td>Finance</td>\n",
       "      <td>24.0</td>\n",
       "      <td>6.0</td>\n",
       "      <td>2.0</td>\n",
       "      <td>0</td>\n",
       "      <td>TOMASA ARMEN</td>\n",
       "    </tr>\n",
       "    <tr>\n",
       "      <th>1</th>\n",
       "      <td>ANNIE</td>\n",
       "      <td>NaN</td>\n",
       "      <td>F</td>\n",
       "      <td>NaN</td>\n",
       "      <td>01-07-2016</td>\n",
       "      <td>Associate</td>\n",
       "      <td>NaN</td>\n",
       "      <td>89207</td>\n",
       "      <td>Web</td>\n",
       "      <td>NaN</td>\n",
       "      <td>13.0</td>\n",
       "      <td>NaN</td>\n",
       "      <td>7</td>\n",
       "      <td>NaN</td>\n",
       "    </tr>\n",
       "    <tr>\n",
       "      <th>2</th>\n",
       "      <td>OLIVE</td>\n",
       "      <td>ANCY</td>\n",
       "      <td>F</td>\n",
       "      <td>7-28-2014</td>\n",
       "      <td>01-07-2016</td>\n",
       "      <td>Analyst</td>\n",
       "      <td>21.0</td>\n",
       "      <td>40955</td>\n",
       "      <td>Finance</td>\n",
       "      <td>23.0</td>\n",
       "      <td>7.0</td>\n",
       "      <td>3.0</td>\n",
       "      <td>0</td>\n",
       "      <td>OLIVE ANCY</td>\n",
       "    </tr>\n",
       "    <tr>\n",
       "      <th>3</th>\n",
       "      <td>CHERRY</td>\n",
       "      <td>AQUILAR</td>\n",
       "      <td>F</td>\n",
       "      <td>04-03-2013</td>\n",
       "      <td>01-07-2016</td>\n",
       "      <td>Analyst</td>\n",
       "      <td>22.0</td>\n",
       "      <td>45550</td>\n",
       "      <td>IT</td>\n",
       "      <td>22.0</td>\n",
       "      <td>8.0</td>\n",
       "      <td>3.0</td>\n",
       "      <td>0</td>\n",
       "      <td>CHERRY AQUILAR</td>\n",
       "    </tr>\n",
       "    <tr>\n",
       "      <th>4</th>\n",
       "      <td>LEON</td>\n",
       "      <td>ABOULAHOUD</td>\n",
       "      <td>M</td>\n",
       "      <td>11-20-2014</td>\n",
       "      <td>01-07-2016</td>\n",
       "      <td>Analyst</td>\n",
       "      <td>NaN</td>\n",
       "      <td>43161</td>\n",
       "      <td>Operations</td>\n",
       "      <td>27.0</td>\n",
       "      <td>3.0</td>\n",
       "      <td>NaN</td>\n",
       "      <td>3</td>\n",
       "      <td>LEON ABOULAHOUD</td>\n",
       "    </tr>\n",
       "  </tbody>\n",
       "</table>\n",
       "</div>"
      ],
      "text/plain": [
       "  FIRST NAME   LAST NAME SEX         DOJ CURRENT DATE DESIGNATION   AGE  \\\n",
       "0     TOMASA       ARMEN   F   5-18-2014   01-07-2016     Analyst  21.0   \n",
       "1      ANNIE         NaN   F         NaN   01-07-2016   Associate   NaN   \n",
       "2      OLIVE        ANCY   F   7-28-2014   01-07-2016     Analyst  21.0   \n",
       "3     CHERRY     AQUILAR   F  04-03-2013   01-07-2016     Analyst  22.0   \n",
       "4       LEON  ABOULAHOUD   M  11-20-2014   01-07-2016     Analyst   NaN   \n",
       "\n",
       "   SALARY        UNIT  LEAVES USED  LEAVES REMAINING  RATINGS  PAST EXP  \\\n",
       "0   44570     Finance         24.0               6.0      2.0         0   \n",
       "1   89207         Web          NaN              13.0      NaN         7   \n",
       "2   40955     Finance         23.0               7.0      3.0         0   \n",
       "3   45550          IT         22.0               8.0      3.0         0   \n",
       "4   43161  Operations         27.0               3.0      NaN         3   \n",
       "\n",
       "         Full_Name  \n",
       "0     TOMASA ARMEN  \n",
       "1              NaN  \n",
       "2       OLIVE ANCY  \n",
       "3   CHERRY AQUILAR  \n",
       "4  LEON ABOULAHOUD  "
      ]
     },
     "execution_count": 99,
     "metadata": {},
     "output_type": "execute_result"
    }
   ],
   "source": [
    "# compine the frist name and the last name in one coulmn\n",
    "data['Full_Name'] = data['FIRST NAME'] + ' ' + data['LAST NAME']\n",
    "print(data.shape)\n",
    "data.head()"
   ]
  },
  {
   "cell_type": "code",
   "execution_count": null,
   "id": "94d9eaed-d1c1-419d-92aa-dca47df25e0c",
   "metadata": {},
   "outputs": [],
   "source": []
  },
  {
   "cell_type": "markdown",
   "id": "35078326-c224-4c60-995b-b5b1c759edf3",
   "metadata": {},
   "source": [
    "# 3- Data preprocessing"
   ]
  },
  {
   "cell_type": "markdown",
   "id": "e1159c74-5454-42c1-a477-43ed6ff24339",
   "metadata": {},
   "source": [
    "### Droping duplication from data"
   ]
  },
  {
   "cell_type": "code",
   "execution_count": 100,
   "id": "0e2e01e9-4f79-4628-b30d-770d2680dabb",
   "metadata": {},
   "outputs": [
    {
     "name": "stdout",
     "output_type": "stream",
     "text": [
      "(161, 14)\n",
      "(0, 14)\n"
     ]
    }
   ],
   "source": [
    "print(data[data.duplicated].shape)\n",
    "data = data.drop_duplicates(keep='first')\n",
    "print(data[data.duplicated].shape)"
   ]
  },
  {
   "cell_type": "markdown",
   "id": "213c1040-8124-4e29-99b3-a45ca3e9ec72",
   "metadata": {},
   "source": [
    "#### inferance :\n",
    "##### There is 161 Rows are duplicated so we have to drop them"
   ]
  },
  {
   "cell_type": "markdown",
   "id": "67c44ca7-9005-4b5e-ba10-366dbdda795e",
   "metadata": {},
   "source": [
    " ### Droping un important coulmns That does not effect on the procces"
   ]
  },
  {
   "cell_type": "code",
   "execution_count": 101,
   "id": "72a20e1c-e623-4e85-b0d9-80f8e6c563db",
   "metadata": {},
   "outputs": [],
   "source": [
    "# creting new_data --> without un important feature\n",
    "new_data = data.drop(columns=['FIRST NAME', 'LAST NAME','Full_Name','DOJ','CURRENT DATE'])"
   ]
  },
  {
   "cell_type": "code",
   "execution_count": 102,
   "id": "a4fe94f3-bbf5-4283-b657-5da45d2c3f07",
   "metadata": {},
   "outputs": [
    {
     "data": {
      "text/html": [
       "<div>\n",
       "<style scoped>\n",
       "    .dataframe tbody tr th:only-of-type {\n",
       "        vertical-align: middle;\n",
       "    }\n",
       "\n",
       "    .dataframe tbody tr th {\n",
       "        vertical-align: top;\n",
       "    }\n",
       "\n",
       "    .dataframe thead th {\n",
       "        text-align: right;\n",
       "    }\n",
       "</style>\n",
       "<table border=\"1\" class=\"dataframe\">\n",
       "  <thead>\n",
       "    <tr style=\"text-align: right;\">\n",
       "      <th></th>\n",
       "      <th>SEX</th>\n",
       "      <th>DESIGNATION</th>\n",
       "      <th>AGE</th>\n",
       "      <th>SALARY</th>\n",
       "      <th>UNIT</th>\n",
       "      <th>LEAVES USED</th>\n",
       "      <th>LEAVES REMAINING</th>\n",
       "      <th>RATINGS</th>\n",
       "      <th>PAST EXP</th>\n",
       "    </tr>\n",
       "  </thead>\n",
       "  <tbody>\n",
       "    <tr>\n",
       "      <th>0</th>\n",
       "      <td>F</td>\n",
       "      <td>Analyst</td>\n",
       "      <td>21.0</td>\n",
       "      <td>44570</td>\n",
       "      <td>Finance</td>\n",
       "      <td>24.0</td>\n",
       "      <td>6.0</td>\n",
       "      <td>2.0</td>\n",
       "      <td>0</td>\n",
       "    </tr>\n",
       "    <tr>\n",
       "      <th>1</th>\n",
       "      <td>F</td>\n",
       "      <td>Associate</td>\n",
       "      <td>NaN</td>\n",
       "      <td>89207</td>\n",
       "      <td>Web</td>\n",
       "      <td>NaN</td>\n",
       "      <td>13.0</td>\n",
       "      <td>NaN</td>\n",
       "      <td>7</td>\n",
       "    </tr>\n",
       "    <tr>\n",
       "      <th>2</th>\n",
       "      <td>F</td>\n",
       "      <td>Analyst</td>\n",
       "      <td>21.0</td>\n",
       "      <td>40955</td>\n",
       "      <td>Finance</td>\n",
       "      <td>23.0</td>\n",
       "      <td>7.0</td>\n",
       "      <td>3.0</td>\n",
       "      <td>0</td>\n",
       "    </tr>\n",
       "    <tr>\n",
       "      <th>3</th>\n",
       "      <td>F</td>\n",
       "      <td>Analyst</td>\n",
       "      <td>22.0</td>\n",
       "      <td>45550</td>\n",
       "      <td>IT</td>\n",
       "      <td>22.0</td>\n",
       "      <td>8.0</td>\n",
       "      <td>3.0</td>\n",
       "      <td>0</td>\n",
       "    </tr>\n",
       "    <tr>\n",
       "      <th>4</th>\n",
       "      <td>M</td>\n",
       "      <td>Analyst</td>\n",
       "      <td>NaN</td>\n",
       "      <td>43161</td>\n",
       "      <td>Operations</td>\n",
       "      <td>27.0</td>\n",
       "      <td>3.0</td>\n",
       "      <td>NaN</td>\n",
       "      <td>3</td>\n",
       "    </tr>\n",
       "  </tbody>\n",
       "</table>\n",
       "</div>"
      ],
      "text/plain": [
       "  SEX DESIGNATION   AGE  SALARY        UNIT  LEAVES USED  LEAVES REMAINING  \\\n",
       "0   F     Analyst  21.0   44570     Finance         24.0               6.0   \n",
       "1   F   Associate   NaN   89207         Web          NaN              13.0   \n",
       "2   F     Analyst  21.0   40955     Finance         23.0               7.0   \n",
       "3   F     Analyst  22.0   45550          IT         22.0               8.0   \n",
       "4   M     Analyst   NaN   43161  Operations         27.0               3.0   \n",
       "\n",
       "   RATINGS  PAST EXP  \n",
       "0      2.0         0  \n",
       "1      NaN         7  \n",
       "2      3.0         0  \n",
       "3      3.0         0  \n",
       "4      NaN         3  "
      ]
     },
     "execution_count": 102,
     "metadata": {},
     "output_type": "execute_result"
    }
   ],
   "source": [
    "new_data.head()"
   ]
  },
  {
   "cell_type": "markdown",
   "id": "ca733665-3488-4c7e-a21e-2fc51ec93214",
   "metadata": {},
   "source": [
    "#### Cheacking null values in each coulmns"
   ]
  },
  {
   "cell_type": "code",
   "execution_count": 103,
   "id": "769b2323-3fa8-4637-8ac7-a57e6d25c849",
   "metadata": {},
   "outputs": [
    {
     "data": {
      "text/plain": [
       "SEX                 0\n",
       "DESIGNATION         0\n",
       "AGE                 3\n",
       "SALARY              0\n",
       "UNIT                0\n",
       "LEAVES USED         3\n",
       "LEAVES REMAINING    2\n",
       "RATINGS             2\n",
       "PAST EXP            0\n",
       "dtype: int64"
      ]
     },
     "execution_count": 103,
     "metadata": {},
     "output_type": "execute_result"
    }
   ],
   "source": [
    "new_data.isnull().sum()"
   ]
  },
  {
   "cell_type": "markdown",
   "id": "33dd36ed-0153-41e5-adb1-9ce0a85cdbac",
   "metadata": {},
   "source": [
    "#### Filling null values with the mean vlaue "
   ]
  },
  {
   "cell_type": "code",
   "execution_count": 104,
   "id": "3a825f43-0057-4364-b77c-c81cfcc0c398",
   "metadata": {},
   "outputs": [],
   "source": [
    "# Fill null values with the mean of the column\n",
    "new_data['AGE'] = new_data['AGE'].fillna(new_data['AGE'].mean())\n",
    "new_data['LEAVES USED'] = new_data['LEAVES USED'].fillna(new_data['LEAVES USED'].mean())\n",
    "new_data['LEAVES REMAINING'] = new_data['LEAVES REMAINING'].fillna(new_data['LEAVES REMAINING'].mean())\n",
    "new_data['RATINGS'] = new_data['RATINGS'].fillna(new_data['RATINGS'].mean())"
   ]
  },
  {
   "cell_type": "code",
   "execution_count": 105,
   "id": "f3606f6a-064f-45c4-b836-21ade5d64f09",
   "metadata": {},
   "outputs": [
    {
     "data": {
      "text/plain": [
       "SEX                 0\n",
       "DESIGNATION         0\n",
       "AGE                 0\n",
       "SALARY              0\n",
       "UNIT                0\n",
       "LEAVES USED         0\n",
       "LEAVES REMAINING    0\n",
       "RATINGS             0\n",
       "PAST EXP            0\n",
       "dtype: int64"
      ]
     },
     "execution_count": 105,
     "metadata": {},
     "output_type": "execute_result"
    }
   ],
   "source": [
    "new_data.isnull().sum()"
   ]
  },
  {
   "cell_type": "code",
   "execution_count": 106,
   "id": "f72b2985-5a38-4a95-b89c-a140db012723",
   "metadata": {},
   "outputs": [
    {
     "data": {
      "text/html": [
       "<div>\n",
       "<style scoped>\n",
       "    .dataframe tbody tr th:only-of-type {\n",
       "        vertical-align: middle;\n",
       "    }\n",
       "\n",
       "    .dataframe tbody tr th {\n",
       "        vertical-align: top;\n",
       "    }\n",
       "\n",
       "    .dataframe thead th {\n",
       "        text-align: right;\n",
       "    }\n",
       "</style>\n",
       "<table border=\"1\" class=\"dataframe\">\n",
       "  <thead>\n",
       "    <tr style=\"text-align: right;\">\n",
       "      <th></th>\n",
       "      <th>SEX</th>\n",
       "      <th>DESIGNATION</th>\n",
       "      <th>AGE</th>\n",
       "      <th>SALARY</th>\n",
       "      <th>UNIT</th>\n",
       "      <th>LEAVES USED</th>\n",
       "      <th>LEAVES REMAINING</th>\n",
       "      <th>RATINGS</th>\n",
       "      <th>PAST EXP</th>\n",
       "    </tr>\n",
       "  </thead>\n",
       "  <tbody>\n",
       "    <tr>\n",
       "      <th>0</th>\n",
       "      <td>F</td>\n",
       "      <td>Analyst</td>\n",
       "      <td>21.000000</td>\n",
       "      <td>44570</td>\n",
       "      <td>Finance</td>\n",
       "      <td>24.000000</td>\n",
       "      <td>6.0</td>\n",
       "      <td>2.000000</td>\n",
       "      <td>0</td>\n",
       "    </tr>\n",
       "    <tr>\n",
       "      <th>1</th>\n",
       "      <td>F</td>\n",
       "      <td>Associate</td>\n",
       "      <td>24.727273</td>\n",
       "      <td>89207</td>\n",
       "      <td>Web</td>\n",
       "      <td>22.493737</td>\n",
       "      <td>13.0</td>\n",
       "      <td>3.481826</td>\n",
       "      <td>7</td>\n",
       "    </tr>\n",
       "    <tr>\n",
       "      <th>2</th>\n",
       "      <td>F</td>\n",
       "      <td>Analyst</td>\n",
       "      <td>21.000000</td>\n",
       "      <td>40955</td>\n",
       "      <td>Finance</td>\n",
       "      <td>23.000000</td>\n",
       "      <td>7.0</td>\n",
       "      <td>3.000000</td>\n",
       "      <td>0</td>\n",
       "    </tr>\n",
       "    <tr>\n",
       "      <th>3</th>\n",
       "      <td>F</td>\n",
       "      <td>Analyst</td>\n",
       "      <td>22.000000</td>\n",
       "      <td>45550</td>\n",
       "      <td>IT</td>\n",
       "      <td>22.000000</td>\n",
       "      <td>8.0</td>\n",
       "      <td>3.000000</td>\n",
       "      <td>0</td>\n",
       "    </tr>\n",
       "    <tr>\n",
       "      <th>4</th>\n",
       "      <td>M</td>\n",
       "      <td>Analyst</td>\n",
       "      <td>24.727273</td>\n",
       "      <td>43161</td>\n",
       "      <td>Operations</td>\n",
       "      <td>27.000000</td>\n",
       "      <td>3.0</td>\n",
       "      <td>3.481826</td>\n",
       "      <td>3</td>\n",
       "    </tr>\n",
       "  </tbody>\n",
       "</table>\n",
       "</div>"
      ],
      "text/plain": [
       "  SEX DESIGNATION        AGE  SALARY        UNIT  LEAVES USED  \\\n",
       "0   F     Analyst  21.000000   44570     Finance    24.000000   \n",
       "1   F   Associate  24.727273   89207         Web    22.493737   \n",
       "2   F     Analyst  21.000000   40955     Finance    23.000000   \n",
       "3   F     Analyst  22.000000   45550          IT    22.000000   \n",
       "4   M     Analyst  24.727273   43161  Operations    27.000000   \n",
       "\n",
       "   LEAVES REMAINING   RATINGS  PAST EXP  \n",
       "0               6.0  2.000000         0  \n",
       "1              13.0  3.481826         7  \n",
       "2               7.0  3.000000         0  \n",
       "3               8.0  3.000000         0  \n",
       "4               3.0  3.481826         3  "
      ]
     },
     "execution_count": 106,
     "metadata": {},
     "output_type": "execute_result"
    }
   ],
   "source": [
    "new_data.head()"
   ]
  },
  {
   "cell_type": "markdown",
   "id": "285b7ca7-3961-4d31-b191-af1d3c38d1a5",
   "metadata": {},
   "source": [
    "#### Dealing with object data\n",
    "###### Encode them using label encoder"
   ]
  },
  {
   "cell_type": "code",
   "execution_count": 107,
   "id": "96996d53-b370-466e-b616-d38b1c06308f",
   "metadata": {},
   "outputs": [],
   "source": [
    "from sklearn.preprocessing import LabelEncoder\n",
    "# Initialize the LabelEncoder\n",
    "label_encoder = LabelEncoder()\n",
    "\n",
    "new_data['SEX_Encoded'] = label_encoder.fit_transform(new_data['SEX'])\n",
    "new_data['DESIGNATION_Encoded'] = label_encoder.fit_transform(new_data['DESIGNATION'])\n",
    "new_data['UNIT_Encoded'] = label_encoder.fit_transform(new_data['UNIT'])"
   ]
  },
  {
   "cell_type": "code",
   "execution_count": 108,
   "id": "3a2c79bb-7841-4212-9f7a-314567d6cf5a",
   "metadata": {},
   "outputs": [
    {
     "data": {
      "text/html": [
       "<div>\n",
       "<style scoped>\n",
       "    .dataframe tbody tr th:only-of-type {\n",
       "        vertical-align: middle;\n",
       "    }\n",
       "\n",
       "    .dataframe tbody tr th {\n",
       "        vertical-align: top;\n",
       "    }\n",
       "\n",
       "    .dataframe thead th {\n",
       "        text-align: right;\n",
       "    }\n",
       "</style>\n",
       "<table border=\"1\" class=\"dataframe\">\n",
       "  <thead>\n",
       "    <tr style=\"text-align: right;\">\n",
       "      <th></th>\n",
       "      <th>SEX</th>\n",
       "      <th>DESIGNATION</th>\n",
       "      <th>AGE</th>\n",
       "      <th>SALARY</th>\n",
       "      <th>UNIT</th>\n",
       "      <th>LEAVES USED</th>\n",
       "      <th>LEAVES REMAINING</th>\n",
       "      <th>RATINGS</th>\n",
       "      <th>PAST EXP</th>\n",
       "      <th>SEX_Encoded</th>\n",
       "      <th>DESIGNATION_Encoded</th>\n",
       "      <th>UNIT_Encoded</th>\n",
       "    </tr>\n",
       "  </thead>\n",
       "  <tbody>\n",
       "    <tr>\n",
       "      <th>0</th>\n",
       "      <td>F</td>\n",
       "      <td>Analyst</td>\n",
       "      <td>21.000000</td>\n",
       "      <td>44570</td>\n",
       "      <td>Finance</td>\n",
       "      <td>24.000000</td>\n",
       "      <td>6.0</td>\n",
       "      <td>2.000000</td>\n",
       "      <td>0</td>\n",
       "      <td>0</td>\n",
       "      <td>0</td>\n",
       "      <td>0</td>\n",
       "    </tr>\n",
       "    <tr>\n",
       "      <th>1</th>\n",
       "      <td>F</td>\n",
       "      <td>Associate</td>\n",
       "      <td>24.727273</td>\n",
       "      <td>89207</td>\n",
       "      <td>Web</td>\n",
       "      <td>22.493737</td>\n",
       "      <td>13.0</td>\n",
       "      <td>3.481826</td>\n",
       "      <td>7</td>\n",
       "      <td>0</td>\n",
       "      <td>1</td>\n",
       "      <td>5</td>\n",
       "    </tr>\n",
       "    <tr>\n",
       "      <th>2</th>\n",
       "      <td>F</td>\n",
       "      <td>Analyst</td>\n",
       "      <td>21.000000</td>\n",
       "      <td>40955</td>\n",
       "      <td>Finance</td>\n",
       "      <td>23.000000</td>\n",
       "      <td>7.0</td>\n",
       "      <td>3.000000</td>\n",
       "      <td>0</td>\n",
       "      <td>0</td>\n",
       "      <td>0</td>\n",
       "      <td>0</td>\n",
       "    </tr>\n",
       "    <tr>\n",
       "      <th>3</th>\n",
       "      <td>F</td>\n",
       "      <td>Analyst</td>\n",
       "      <td>22.000000</td>\n",
       "      <td>45550</td>\n",
       "      <td>IT</td>\n",
       "      <td>22.000000</td>\n",
       "      <td>8.0</td>\n",
       "      <td>3.000000</td>\n",
       "      <td>0</td>\n",
       "      <td>0</td>\n",
       "      <td>0</td>\n",
       "      <td>1</td>\n",
       "    </tr>\n",
       "    <tr>\n",
       "      <th>4</th>\n",
       "      <td>M</td>\n",
       "      <td>Analyst</td>\n",
       "      <td>24.727273</td>\n",
       "      <td>43161</td>\n",
       "      <td>Operations</td>\n",
       "      <td>27.000000</td>\n",
       "      <td>3.0</td>\n",
       "      <td>3.481826</td>\n",
       "      <td>3</td>\n",
       "      <td>1</td>\n",
       "      <td>0</td>\n",
       "      <td>4</td>\n",
       "    </tr>\n",
       "  </tbody>\n",
       "</table>\n",
       "</div>"
      ],
      "text/plain": [
       "  SEX DESIGNATION        AGE  SALARY        UNIT  LEAVES USED  \\\n",
       "0   F     Analyst  21.000000   44570     Finance    24.000000   \n",
       "1   F   Associate  24.727273   89207         Web    22.493737   \n",
       "2   F     Analyst  21.000000   40955     Finance    23.000000   \n",
       "3   F     Analyst  22.000000   45550          IT    22.000000   \n",
       "4   M     Analyst  24.727273   43161  Operations    27.000000   \n",
       "\n",
       "   LEAVES REMAINING   RATINGS  PAST EXP  SEX_Encoded  DESIGNATION_Encoded  \\\n",
       "0               6.0  2.000000         0            0                    0   \n",
       "1              13.0  3.481826         7            0                    1   \n",
       "2               7.0  3.000000         0            0                    0   \n",
       "3               8.0  3.000000         0            0                    0   \n",
       "4               3.0  3.481826         3            1                    0   \n",
       "\n",
       "   UNIT_Encoded  \n",
       "0             0  \n",
       "1             5  \n",
       "2             0  \n",
       "3             1  \n",
       "4             4  "
      ]
     },
     "execution_count": 108,
     "metadata": {},
     "output_type": "execute_result"
    }
   ],
   "source": [
    "new_data.head()"
   ]
  },
  {
   "cell_type": "code",
   "execution_count": 109,
   "id": "5e17feec-90c7-4542-b1f5-c57f4d57f486",
   "metadata": {},
   "outputs": [],
   "source": [
    "new_data.drop(['SEX'], axis = 1, inplace = True)\n",
    "new_data.drop(['DESIGNATION'], axis = 1, inplace = True)\n",
    "new_data.drop(['UNIT'], axis = 1, inplace = True)"
   ]
  },
  {
   "cell_type": "code",
   "execution_count": 110,
   "id": "d88a754e-fe02-4336-ba82-9df21f2410fb",
   "metadata": {},
   "outputs": [
    {
     "data": {
      "text/html": [
       "<div>\n",
       "<style scoped>\n",
       "    .dataframe tbody tr th:only-of-type {\n",
       "        vertical-align: middle;\n",
       "    }\n",
       "\n",
       "    .dataframe tbody tr th {\n",
       "        vertical-align: top;\n",
       "    }\n",
       "\n",
       "    .dataframe thead th {\n",
       "        text-align: right;\n",
       "    }\n",
       "</style>\n",
       "<table border=\"1\" class=\"dataframe\">\n",
       "  <thead>\n",
       "    <tr style=\"text-align: right;\">\n",
       "      <th></th>\n",
       "      <th>AGE</th>\n",
       "      <th>SALARY</th>\n",
       "      <th>LEAVES USED</th>\n",
       "      <th>LEAVES REMAINING</th>\n",
       "      <th>RATINGS</th>\n",
       "      <th>PAST EXP</th>\n",
       "      <th>SEX_Encoded</th>\n",
       "      <th>DESIGNATION_Encoded</th>\n",
       "      <th>UNIT_Encoded</th>\n",
       "    </tr>\n",
       "  </thead>\n",
       "  <tbody>\n",
       "    <tr>\n",
       "      <th>0</th>\n",
       "      <td>21.000000</td>\n",
       "      <td>44570</td>\n",
       "      <td>24.000000</td>\n",
       "      <td>6.0</td>\n",
       "      <td>2.000000</td>\n",
       "      <td>0</td>\n",
       "      <td>0</td>\n",
       "      <td>0</td>\n",
       "      <td>0</td>\n",
       "    </tr>\n",
       "    <tr>\n",
       "      <th>1</th>\n",
       "      <td>24.727273</td>\n",
       "      <td>89207</td>\n",
       "      <td>22.493737</td>\n",
       "      <td>13.0</td>\n",
       "      <td>3.481826</td>\n",
       "      <td>7</td>\n",
       "      <td>0</td>\n",
       "      <td>1</td>\n",
       "      <td>5</td>\n",
       "    </tr>\n",
       "    <tr>\n",
       "      <th>2</th>\n",
       "      <td>21.000000</td>\n",
       "      <td>40955</td>\n",
       "      <td>23.000000</td>\n",
       "      <td>7.0</td>\n",
       "      <td>3.000000</td>\n",
       "      <td>0</td>\n",
       "      <td>0</td>\n",
       "      <td>0</td>\n",
       "      <td>0</td>\n",
       "    </tr>\n",
       "    <tr>\n",
       "      <th>3</th>\n",
       "      <td>22.000000</td>\n",
       "      <td>45550</td>\n",
       "      <td>22.000000</td>\n",
       "      <td>8.0</td>\n",
       "      <td>3.000000</td>\n",
       "      <td>0</td>\n",
       "      <td>0</td>\n",
       "      <td>0</td>\n",
       "      <td>1</td>\n",
       "    </tr>\n",
       "    <tr>\n",
       "      <th>4</th>\n",
       "      <td>24.727273</td>\n",
       "      <td>43161</td>\n",
       "      <td>27.000000</td>\n",
       "      <td>3.0</td>\n",
       "      <td>3.481826</td>\n",
       "      <td>3</td>\n",
       "      <td>1</td>\n",
       "      <td>0</td>\n",
       "      <td>4</td>\n",
       "    </tr>\n",
       "  </tbody>\n",
       "</table>\n",
       "</div>"
      ],
      "text/plain": [
       "         AGE  SALARY  LEAVES USED  LEAVES REMAINING   RATINGS  PAST EXP  \\\n",
       "0  21.000000   44570    24.000000               6.0  2.000000         0   \n",
       "1  24.727273   89207    22.493737              13.0  3.481826         7   \n",
       "2  21.000000   40955    23.000000               7.0  3.000000         0   \n",
       "3  22.000000   45550    22.000000               8.0  3.000000         0   \n",
       "4  24.727273   43161    27.000000               3.0  3.481826         3   \n",
       "\n",
       "   SEX_Encoded  DESIGNATION_Encoded  UNIT_Encoded  \n",
       "0            0                    0             0  \n",
       "1            0                    1             5  \n",
       "2            0                    0             0  \n",
       "3            0                    0             1  \n",
       "4            1                    0             4  "
      ]
     },
     "execution_count": 110,
     "metadata": {},
     "output_type": "execute_result"
    }
   ],
   "source": [
    "new_data.head()"
   ]
  },
  {
   "cell_type": "markdown",
   "id": "366d4f28-2846-4e4d-a34f-87bad452dcf6",
   "metadata": {},
   "source": [
    "### Scaling feature using Stander scaler"
   ]
  },
  {
   "cell_type": "code",
   "execution_count": 111,
   "id": "64cc4901-9eb7-4df3-a4d9-b64b88265bff",
   "metadata": {},
   "outputs": [],
   "source": [
    "from sklearn.preprocessing import MinMaxScaler\n",
    "scaler = MinMaxScaler()\n",
    "num_var = ['LEAVES USED','LEAVES USED','RATINGS','PAST EXP', 'DESIGNATION_Encoded','UNIT_Encoded']\n",
    "new_data[num_var]= scaler.fit_transform(new_data[num_var])"
   ]
  },
  {
   "cell_type": "code",
   "execution_count": 112,
   "id": "fa3c476d-4254-4db5-90df-87f80544e8aa",
   "metadata": {},
   "outputs": [
    {
     "data": {
      "text/html": [
       "<div>\n",
       "<style scoped>\n",
       "    .dataframe tbody tr th:only-of-type {\n",
       "        vertical-align: middle;\n",
       "    }\n",
       "\n",
       "    .dataframe tbody tr th {\n",
       "        vertical-align: top;\n",
       "    }\n",
       "\n",
       "    .dataframe thead th {\n",
       "        text-align: right;\n",
       "    }\n",
       "</style>\n",
       "<table border=\"1\" class=\"dataframe\">\n",
       "  <thead>\n",
       "    <tr style=\"text-align: right;\">\n",
       "      <th></th>\n",
       "      <th>AGE</th>\n",
       "      <th>SALARY</th>\n",
       "      <th>LEAVES USED</th>\n",
       "      <th>LEAVES REMAINING</th>\n",
       "      <th>RATINGS</th>\n",
       "      <th>PAST EXP</th>\n",
       "      <th>SEX_Encoded</th>\n",
       "      <th>DESIGNATION_Encoded</th>\n",
       "      <th>UNIT_Encoded</th>\n",
       "    </tr>\n",
       "  </thead>\n",
       "  <tbody>\n",
       "    <tr>\n",
       "      <th>0</th>\n",
       "      <td>21.000000</td>\n",
       "      <td>44570</td>\n",
       "      <td>0.600000</td>\n",
       "      <td>6.0</td>\n",
       "      <td>0.000000</td>\n",
       "      <td>0.000000</td>\n",
       "      <td>0</td>\n",
       "      <td>0.0</td>\n",
       "      <td>0.0</td>\n",
       "    </tr>\n",
       "    <tr>\n",
       "      <th>1</th>\n",
       "      <td>24.727273</td>\n",
       "      <td>89207</td>\n",
       "      <td>0.499582</td>\n",
       "      <td>13.0</td>\n",
       "      <td>0.493942</td>\n",
       "      <td>0.304348</td>\n",
       "      <td>0</td>\n",
       "      <td>0.2</td>\n",
       "      <td>1.0</td>\n",
       "    </tr>\n",
       "    <tr>\n",
       "      <th>2</th>\n",
       "      <td>21.000000</td>\n",
       "      <td>40955</td>\n",
       "      <td>0.533333</td>\n",
       "      <td>7.0</td>\n",
       "      <td>0.333333</td>\n",
       "      <td>0.000000</td>\n",
       "      <td>0</td>\n",
       "      <td>0.0</td>\n",
       "      <td>0.0</td>\n",
       "    </tr>\n",
       "    <tr>\n",
       "      <th>3</th>\n",
       "      <td>22.000000</td>\n",
       "      <td>45550</td>\n",
       "      <td>0.466667</td>\n",
       "      <td>8.0</td>\n",
       "      <td>0.333333</td>\n",
       "      <td>0.000000</td>\n",
       "      <td>0</td>\n",
       "      <td>0.0</td>\n",
       "      <td>0.2</td>\n",
       "    </tr>\n",
       "    <tr>\n",
       "      <th>4</th>\n",
       "      <td>24.727273</td>\n",
       "      <td>43161</td>\n",
       "      <td>0.800000</td>\n",
       "      <td>3.0</td>\n",
       "      <td>0.493942</td>\n",
       "      <td>0.130435</td>\n",
       "      <td>1</td>\n",
       "      <td>0.0</td>\n",
       "      <td>0.8</td>\n",
       "    </tr>\n",
       "  </tbody>\n",
       "</table>\n",
       "</div>"
      ],
      "text/plain": [
       "         AGE  SALARY  LEAVES USED  LEAVES REMAINING   RATINGS  PAST EXP  \\\n",
       "0  21.000000   44570     0.600000               6.0  0.000000  0.000000   \n",
       "1  24.727273   89207     0.499582              13.0  0.493942  0.304348   \n",
       "2  21.000000   40955     0.533333               7.0  0.333333  0.000000   \n",
       "3  22.000000   45550     0.466667               8.0  0.333333  0.000000   \n",
       "4  24.727273   43161     0.800000               3.0  0.493942  0.130435   \n",
       "\n",
       "   SEX_Encoded  DESIGNATION_Encoded  UNIT_Encoded  \n",
       "0            0                  0.0           0.0  \n",
       "1            0                  0.2           1.0  \n",
       "2            0                  0.0           0.0  \n",
       "3            0                  0.0           0.2  \n",
       "4            1                  0.0           0.8  "
      ]
     },
     "execution_count": 112,
     "metadata": {},
     "output_type": "execute_result"
    }
   ],
   "source": [
    "new_data.head()"
   ]
  },
  {
   "cell_type": "code",
   "execution_count": null,
   "id": "347d8382-b1c6-44f9-8b05-6b1401593350",
   "metadata": {},
   "outputs": [],
   "source": []
  },
  {
   "cell_type": "code",
   "execution_count": null,
   "id": "469d3d76-0926-4b4c-b599-7688fb156c17",
   "metadata": {},
   "outputs": [],
   "source": []
  },
  {
   "cell_type": "markdown",
   "id": "8886c548-5b14-4d3c-b6b9-f321c5c57736",
   "metadata": {},
   "source": [
    "## 4. Machine Learning Model Development:"
   ]
  },
  {
   "cell_type": "code",
   "execution_count": 113,
   "id": "c9804325-e47b-4d52-a2bc-55b9db55dc1f",
   "metadata": {},
   "outputs": [],
   "source": [
    "from sklearn.model_selection import train_test_split\n",
    "np.random.seed(0)\n",
    "df_train , df_test = train_test_split(new_data,train_size=0.7 , test_size=0.3 , random_state=100)"
   ]
  },
  {
   "cell_type": "code",
   "execution_count": 114,
   "id": "ea3dfb1f-7791-48ef-b05d-df4218ca1558",
   "metadata": {},
   "outputs": [],
   "source": [
    "y_train = df_train.pop('SALARY')\n",
    "X_train = df_train"
   ]
  },
  {
   "cell_type": "code",
   "execution_count": 115,
   "id": "5af9dcb7-7c04-41f2-bb81-45de04be0e43",
   "metadata": {},
   "outputs": [],
   "source": [
    "# Recursive Feature elimination\n",
    "from sklearn.feature_selection import RFE\n",
    "from sklearn.ensemble import GradientBoostingClassifier, GradientBoostingRegressor\n",
    "from sklearn.linear_model import LinearRegression\n",
    "from sklearn.tree import DecisionTreeClassifier, DecisionTreeRegressor\n",
    "from sklearn.ensemble import RandomForestClassifier, RandomForestRegressor\n",
    "import statsmodels.api as sm\n",
    "from statsmodels.stats.outliers_influence import variance_inflation_factor\n",
    "from sklearn.metrics import  accuracy_score"
   ]
  },
  {
   "cell_type": "code",
   "execution_count": 116,
   "id": "a7704357-ab52-426d-83d6-f951c4499fda",
   "metadata": {},
   "outputs": [
    {
     "data": {
      "text/html": [
       "<style>#sk-container-id-5 {color: black;background-color: white;}#sk-container-id-5 pre{padding: 0;}#sk-container-id-5 div.sk-toggleable {background-color: white;}#sk-container-id-5 label.sk-toggleable__label {cursor: pointer;display: block;width: 100%;margin-bottom: 0;padding: 0.3em;box-sizing: border-box;text-align: center;}#sk-container-id-5 label.sk-toggleable__label-arrow:before {content: \"▸\";float: left;margin-right: 0.25em;color: #696969;}#sk-container-id-5 label.sk-toggleable__label-arrow:hover:before {color: black;}#sk-container-id-5 div.sk-estimator:hover label.sk-toggleable__label-arrow:before {color: black;}#sk-container-id-5 div.sk-toggleable__content {max-height: 0;max-width: 0;overflow: hidden;text-align: left;background-color: #f0f8ff;}#sk-container-id-5 div.sk-toggleable__content pre {margin: 0.2em;color: black;border-radius: 0.25em;background-color: #f0f8ff;}#sk-container-id-5 input.sk-toggleable__control:checked~div.sk-toggleable__content {max-height: 200px;max-width: 100%;overflow: auto;}#sk-container-id-5 input.sk-toggleable__control:checked~label.sk-toggleable__label-arrow:before {content: \"▾\";}#sk-container-id-5 div.sk-estimator input.sk-toggleable__control:checked~label.sk-toggleable__label {background-color: #d4ebff;}#sk-container-id-5 div.sk-label input.sk-toggleable__control:checked~label.sk-toggleable__label {background-color: #d4ebff;}#sk-container-id-5 input.sk-hidden--visually {border: 0;clip: rect(1px 1px 1px 1px);clip: rect(1px, 1px, 1px, 1px);height: 1px;margin: -1px;overflow: hidden;padding: 0;position: absolute;width: 1px;}#sk-container-id-5 div.sk-estimator {font-family: monospace;background-color: #f0f8ff;border: 1px dotted black;border-radius: 0.25em;box-sizing: border-box;margin-bottom: 0.5em;}#sk-container-id-5 div.sk-estimator:hover {background-color: #d4ebff;}#sk-container-id-5 div.sk-parallel-item::after {content: \"\";width: 100%;border-bottom: 1px solid gray;flex-grow: 1;}#sk-container-id-5 div.sk-label:hover label.sk-toggleable__label {background-color: #d4ebff;}#sk-container-id-5 div.sk-serial::before {content: \"\";position: absolute;border-left: 1px solid gray;box-sizing: border-box;top: 0;bottom: 0;left: 50%;z-index: 0;}#sk-container-id-5 div.sk-serial {display: flex;flex-direction: column;align-items: center;background-color: white;padding-right: 0.2em;padding-left: 0.2em;position: relative;}#sk-container-id-5 div.sk-item {position: relative;z-index: 1;}#sk-container-id-5 div.sk-parallel {display: flex;align-items: stretch;justify-content: center;background-color: white;position: relative;}#sk-container-id-5 div.sk-item::before, #sk-container-id-5 div.sk-parallel-item::before {content: \"\";position: absolute;border-left: 1px solid gray;box-sizing: border-box;top: 0;bottom: 0;left: 50%;z-index: -1;}#sk-container-id-5 div.sk-parallel-item {display: flex;flex-direction: column;z-index: 1;position: relative;background-color: white;}#sk-container-id-5 div.sk-parallel-item:first-child::after {align-self: flex-end;width: 50%;}#sk-container-id-5 div.sk-parallel-item:last-child::after {align-self: flex-start;width: 50%;}#sk-container-id-5 div.sk-parallel-item:only-child::after {width: 0;}#sk-container-id-5 div.sk-dashed-wrapped {border: 1px dashed gray;margin: 0 0.4em 0.5em 0.4em;box-sizing: border-box;padding-bottom: 0.4em;background-color: white;}#sk-container-id-5 div.sk-label label {font-family: monospace;font-weight: bold;display: inline-block;line-height: 1.2em;}#sk-container-id-5 div.sk-label-container {text-align: center;}#sk-container-id-5 div.sk-container {/* jupyter's `normalize.less` sets `[hidden] { display: none; }` but bootstrap.min.css set `[hidden] { display: none !important; }` so we also need the `!important` here to be able to override the default hidden behavior on the sphinx rendered scikit-learn.org. See: https://github.com/scikit-learn/scikit-learn/issues/21755 */display: inline-block !important;position: relative;}#sk-container-id-5 div.sk-text-repr-fallback {display: none;}</style><div id=\"sk-container-id-5\" class=\"sk-top-container\"><div class=\"sk-text-repr-fallback\"><pre>GradientBoostingRegressor()</pre><b>In a Jupyter environment, please rerun this cell to show the HTML representation or trust the notebook. <br />On GitHub, the HTML representation is unable to render, please try loading this page with nbviewer.org.</b></div><div class=\"sk-container\" hidden><div class=\"sk-item\"><div class=\"sk-estimator sk-toggleable\"><input class=\"sk-toggleable__control sk-hidden--visually\" id=\"sk-estimator-id-5\" type=\"checkbox\" checked><label for=\"sk-estimator-id-5\" class=\"sk-toggleable__label sk-toggleable__label-arrow\">GradientBoostingRegressor</label><div class=\"sk-toggleable__content\"><pre>GradientBoostingRegressor()</pre></div></div></div></div></div>"
      ],
      "text/plain": [
       "GradientBoostingRegressor()"
      ]
     },
     "execution_count": 116,
     "metadata": {},
     "output_type": "execute_result"
    }
   ],
   "source": [
    "lm = GradientBoostingRegressor()\n",
    "lm.fit(X_train,y_train)"
   ]
  },
  {
   "cell_type": "code",
   "execution_count": 117,
   "id": "76dfce24-adf2-4dfa-b843-9f6c6ebd732d",
   "metadata": {},
   "outputs": [],
   "source": [
    "y_test = df_test.pop('SALARY')\n",
    "X_test = df_test"
   ]
  },
  {
   "cell_type": "code",
   "execution_count": 118,
   "id": "9fc3033c-e639-44c5-83d7-a696c9efcf8e",
   "metadata": {},
   "outputs": [
    {
     "data": {
      "text/html": [
       "<style>#sk-container-id-6 {color: black;background-color: white;}#sk-container-id-6 pre{padding: 0;}#sk-container-id-6 div.sk-toggleable {background-color: white;}#sk-container-id-6 label.sk-toggleable__label {cursor: pointer;display: block;width: 100%;margin-bottom: 0;padding: 0.3em;box-sizing: border-box;text-align: center;}#sk-container-id-6 label.sk-toggleable__label-arrow:before {content: \"▸\";float: left;margin-right: 0.25em;color: #696969;}#sk-container-id-6 label.sk-toggleable__label-arrow:hover:before {color: black;}#sk-container-id-6 div.sk-estimator:hover label.sk-toggleable__label-arrow:before {color: black;}#sk-container-id-6 div.sk-toggleable__content {max-height: 0;max-width: 0;overflow: hidden;text-align: left;background-color: #f0f8ff;}#sk-container-id-6 div.sk-toggleable__content pre {margin: 0.2em;color: black;border-radius: 0.25em;background-color: #f0f8ff;}#sk-container-id-6 input.sk-toggleable__control:checked~div.sk-toggleable__content {max-height: 200px;max-width: 100%;overflow: auto;}#sk-container-id-6 input.sk-toggleable__control:checked~label.sk-toggleable__label-arrow:before {content: \"▾\";}#sk-container-id-6 div.sk-estimator input.sk-toggleable__control:checked~label.sk-toggleable__label {background-color: #d4ebff;}#sk-container-id-6 div.sk-label input.sk-toggleable__control:checked~label.sk-toggleable__label {background-color: #d4ebff;}#sk-container-id-6 input.sk-hidden--visually {border: 0;clip: rect(1px 1px 1px 1px);clip: rect(1px, 1px, 1px, 1px);height: 1px;margin: -1px;overflow: hidden;padding: 0;position: absolute;width: 1px;}#sk-container-id-6 div.sk-estimator {font-family: monospace;background-color: #f0f8ff;border: 1px dotted black;border-radius: 0.25em;box-sizing: border-box;margin-bottom: 0.5em;}#sk-container-id-6 div.sk-estimator:hover {background-color: #d4ebff;}#sk-container-id-6 div.sk-parallel-item::after {content: \"\";width: 100%;border-bottom: 1px solid gray;flex-grow: 1;}#sk-container-id-6 div.sk-label:hover label.sk-toggleable__label {background-color: #d4ebff;}#sk-container-id-6 div.sk-serial::before {content: \"\";position: absolute;border-left: 1px solid gray;box-sizing: border-box;top: 0;bottom: 0;left: 50%;z-index: 0;}#sk-container-id-6 div.sk-serial {display: flex;flex-direction: column;align-items: center;background-color: white;padding-right: 0.2em;padding-left: 0.2em;position: relative;}#sk-container-id-6 div.sk-item {position: relative;z-index: 1;}#sk-container-id-6 div.sk-parallel {display: flex;align-items: stretch;justify-content: center;background-color: white;position: relative;}#sk-container-id-6 div.sk-item::before, #sk-container-id-6 div.sk-parallel-item::before {content: \"\";position: absolute;border-left: 1px solid gray;box-sizing: border-box;top: 0;bottom: 0;left: 50%;z-index: -1;}#sk-container-id-6 div.sk-parallel-item {display: flex;flex-direction: column;z-index: 1;position: relative;background-color: white;}#sk-container-id-6 div.sk-parallel-item:first-child::after {align-self: flex-end;width: 50%;}#sk-container-id-6 div.sk-parallel-item:last-child::after {align-self: flex-start;width: 50%;}#sk-container-id-6 div.sk-parallel-item:only-child::after {width: 0;}#sk-container-id-6 div.sk-dashed-wrapped {border: 1px dashed gray;margin: 0 0.4em 0.5em 0.4em;box-sizing: border-box;padding-bottom: 0.4em;background-color: white;}#sk-container-id-6 div.sk-label label {font-family: monospace;font-weight: bold;display: inline-block;line-height: 1.2em;}#sk-container-id-6 div.sk-label-container {text-align: center;}#sk-container-id-6 div.sk-container {/* jupyter's `normalize.less` sets `[hidden] { display: none; }` but bootstrap.min.css set `[hidden] { display: none !important; }` so we also need the `!important` here to be able to override the default hidden behavior on the sphinx rendered scikit-learn.org. See: https://github.com/scikit-learn/scikit-learn/issues/21755 */display: inline-block !important;position: relative;}#sk-container-id-6 div.sk-text-repr-fallback {display: none;}</style><div id=\"sk-container-id-6\" class=\"sk-top-container\"><div class=\"sk-text-repr-fallback\"><pre>GradientBoostingRegressor()</pre><b>In a Jupyter environment, please rerun this cell to show the HTML representation or trust the notebook. <br />On GitHub, the HTML representation is unable to render, please try loading this page with nbviewer.org.</b></div><div class=\"sk-container\" hidden><div class=\"sk-item\"><div class=\"sk-estimator sk-toggleable\"><input class=\"sk-toggleable__control sk-hidden--visually\" id=\"sk-estimator-id-6\" type=\"checkbox\" checked><label for=\"sk-estimator-id-6\" class=\"sk-toggleable__label sk-toggleable__label-arrow\">GradientBoostingRegressor</label><div class=\"sk-toggleable__content\"><pre>GradientBoostingRegressor()</pre></div></div></div></div></div>"
      ],
      "text/plain": [
       "GradientBoostingRegressor()"
      ]
     },
     "execution_count": 118,
     "metadata": {},
     "output_type": "execute_result"
    }
   ],
   "source": [
    "lm = GradientBoostingRegressor()\n",
    "lm.fit(X_test,y_test)"
   ]
  },
  {
   "cell_type": "markdown",
   "id": "73f5d9cf-0b25-46c9-850a-825d900e4e76",
   "metadata": {},
   "source": [
    "### GradientBoostingRegressor :\n",
    "#### is the best model for this data"
   ]
  },
  {
   "cell_type": "code",
   "execution_count": 119,
   "id": "bbe697ba-5e36-4d00-ac75-54fc04d7e0a2",
   "metadata": {},
   "outputs": [
    {
     "data": {
      "text/plain": [
       "0.9338528587812238"
      ]
     },
     "execution_count": 119,
     "metadata": {},
     "output_type": "execute_result"
    }
   ],
   "source": [
    "lm.score(X_train,y_train)"
   ]
  },
  {
   "cell_type": "code",
   "execution_count": 120,
   "id": "90ba16b6-3f2e-4843-b9bb-62df311d5148",
   "metadata": {},
   "outputs": [
    {
     "name": "stdout",
     "output_type": "stream",
     "text": [
      "0.9895839806428903\n"
     ]
    }
   ],
   "source": [
    "print(lm.score(X_test,y_test))"
   ]
  },
  {
   "cell_type": "code",
   "execution_count": 121,
   "id": "6b3e508e-1312-4517-8b2e-3c75161563eb",
   "metadata": {},
   "outputs": [],
   "source": [
    "# Making predictions\n",
    "y_pred = lm.predict(X_test)"
   ]
  },
  {
   "cell_type": "markdown",
   "id": "e0597179-539a-41cc-8a17-9f9033de31ef",
   "metadata": {},
   "source": [
    "## 5. Model Evaluation:"
   ]
  },
  {
   "cell_type": "code",
   "execution_count": 122,
   "id": "06df2514-a511-4402-a547-c27c9acf5af1",
   "metadata": {},
   "outputs": [
    {
     "data": {
      "text/plain": [
       "0.9895839806428903"
      ]
     },
     "execution_count": 122,
     "metadata": {},
     "output_type": "execute_result"
    }
   ],
   "source": [
    "from sklearn.metrics import r2_score \n",
    "r2_score(y_test, y_pred)"
   ]
  },
  {
   "cell_type": "code",
   "execution_count": 123,
   "id": "0220167c-fde3-40c0-89ae-5fac3656d896",
   "metadata": {},
   "outputs": [
    {
     "data": {
      "text/html": [
       "<div>\n",
       "<style scoped>\n",
       "    .dataframe tbody tr th:only-of-type {\n",
       "        vertical-align: middle;\n",
       "    }\n",
       "\n",
       "    .dataframe tbody tr th {\n",
       "        vertical-align: top;\n",
       "    }\n",
       "\n",
       "    .dataframe thead th {\n",
       "        text-align: right;\n",
       "    }\n",
       "</style>\n",
       "<table border=\"1\" class=\"dataframe\">\n",
       "  <thead>\n",
       "    <tr style=\"text-align: right;\">\n",
       "      <th></th>\n",
       "      <th>AGE</th>\n",
       "      <th>SALARY</th>\n",
       "      <th>LEAVES USED</th>\n",
       "      <th>LEAVES REMAINING</th>\n",
       "      <th>RATINGS</th>\n",
       "      <th>PAST EXP</th>\n",
       "      <th>SEX_Encoded</th>\n",
       "      <th>DESIGNATION_Encoded</th>\n",
       "      <th>UNIT_Encoded</th>\n",
       "    </tr>\n",
       "  </thead>\n",
       "  <tbody>\n",
       "    <tr>\n",
       "      <th>0</th>\n",
       "      <td>21.000000</td>\n",
       "      <td>44570</td>\n",
       "      <td>0.600000</td>\n",
       "      <td>6.0</td>\n",
       "      <td>0.000000</td>\n",
       "      <td>0.000000</td>\n",
       "      <td>0</td>\n",
       "      <td>0.0</td>\n",
       "      <td>0.0</td>\n",
       "    </tr>\n",
       "    <tr>\n",
       "      <th>1</th>\n",
       "      <td>24.727273</td>\n",
       "      <td>89207</td>\n",
       "      <td>0.499582</td>\n",
       "      <td>13.0</td>\n",
       "      <td>0.493942</td>\n",
       "      <td>0.304348</td>\n",
       "      <td>0</td>\n",
       "      <td>0.2</td>\n",
       "      <td>1.0</td>\n",
       "    </tr>\n",
       "    <tr>\n",
       "      <th>2</th>\n",
       "      <td>21.000000</td>\n",
       "      <td>40955</td>\n",
       "      <td>0.533333</td>\n",
       "      <td>7.0</td>\n",
       "      <td>0.333333</td>\n",
       "      <td>0.000000</td>\n",
       "      <td>0</td>\n",
       "      <td>0.0</td>\n",
       "      <td>0.0</td>\n",
       "    </tr>\n",
       "    <tr>\n",
       "      <th>3</th>\n",
       "      <td>22.000000</td>\n",
       "      <td>45550</td>\n",
       "      <td>0.466667</td>\n",
       "      <td>8.0</td>\n",
       "      <td>0.333333</td>\n",
       "      <td>0.000000</td>\n",
       "      <td>0</td>\n",
       "      <td>0.0</td>\n",
       "      <td>0.2</td>\n",
       "    </tr>\n",
       "    <tr>\n",
       "      <th>4</th>\n",
       "      <td>24.727273</td>\n",
       "      <td>43161</td>\n",
       "      <td>0.800000</td>\n",
       "      <td>3.0</td>\n",
       "      <td>0.493942</td>\n",
       "      <td>0.130435</td>\n",
       "      <td>1</td>\n",
       "      <td>0.0</td>\n",
       "      <td>0.8</td>\n",
       "    </tr>\n",
       "  </tbody>\n",
       "</table>\n",
       "</div>"
      ],
      "text/plain": [
       "         AGE  SALARY  LEAVES USED  LEAVES REMAINING   RATINGS  PAST EXP  \\\n",
       "0  21.000000   44570     0.600000               6.0  0.000000  0.000000   \n",
       "1  24.727273   89207     0.499582              13.0  0.493942  0.304348   \n",
       "2  21.000000   40955     0.533333               7.0  0.333333  0.000000   \n",
       "3  22.000000   45550     0.466667               8.0  0.333333  0.000000   \n",
       "4  24.727273   43161     0.800000               3.0  0.493942  0.130435   \n",
       "\n",
       "   SEX_Encoded  DESIGNATION_Encoded  UNIT_Encoded  \n",
       "0            0                  0.0           0.0  \n",
       "1            0                  0.2           1.0  \n",
       "2            0                  0.0           0.0  \n",
       "3            0                  0.0           0.2  \n",
       "4            1                  0.0           0.8  "
      ]
     },
     "execution_count": 123,
     "metadata": {},
     "output_type": "execute_result"
    }
   ],
   "source": [
    "new_data.head()"
   ]
  },
  {
   "cell_type": "markdown",
   "id": "230a7739-d16b-430c-abde-ea693e82fe23",
   "metadata": {},
   "source": [
    "## 6. ML Pipelines and Model Deployment:"
   ]
  },
  {
   "cell_type": "code",
   "execution_count": 124,
   "id": "0a8bb524-4a6f-460a-9fee-b5fefc5ea372",
   "metadata": {},
   "outputs": [],
   "source": [
    "#Save the model \n",
    "import pickle\n",
    "pickle.dump(lm, open('model.pkl', 'wb'))"
   ]
  },
  {
   "cell_type": "code",
   "execution_count": 139,
   "id": "5467f263-53ce-4c12-8ef5-709e854ba1de",
   "metadata": {},
   "outputs": [
    {
     "name": "stdout",
     "output_type": "stream",
     "text": [
      "[44446.30318591]\n"
     ]
    },
    {
     "name": "stderr",
     "output_type": "stream",
     "text": [
      "C:\\Users\\El_Gohary\\anaconda3\\Lib\\site-packages\\sklearn\\base.py:439: UserWarning: X does not have valid feature names, but GradientBoostingRegressor was fitted with feature names\n",
      "  warnings.warn(\n"
     ]
    }
   ],
   "source": [
    "#Load the model\n",
    "model = pickle.load(open('model.pkl','rb'))\n",
    "print(model.predict([[24 , 24 , 6, 0 ,0 ,1, 0, 0]]))"
   ]
  },
  {
   "cell_type": "code",
   "execution_count": null,
   "id": "ad6a293f-0032-416c-a20f-b5e06316f24f",
   "metadata": {},
   "outputs": [],
   "source": []
  },
  {
   "cell_type": "markdown",
   "id": "b101d456-1539-4de9-aac7-27900b0eb4d0",
   "metadata": {},
   "source": [
    "## 7. Recommendations:"
   ]
  },
  {
   "cell_type": "markdown",
   "id": "ae6482bc-ed12-4e7b-81e9-14646af9a966",
   "metadata": {},
   "source": [
    "### 1- The most commen job is analyist so try to start as analyist\n",
    "### 2 - he Highest Salary is Dirctors so you have to work more hard to achieve this posation\n",
    "### 3- Try to take Experience i field becuse The more Experience you have the highest salary you achieve"
   ]
  },
  {
   "cell_type": "code",
   "execution_count": null,
   "id": "daf9c4dd-0c36-4b00-993b-d3e609bf95fc",
   "metadata": {},
   "outputs": [],
   "source": []
  }
 ],
 "metadata": {
  "kernelspec": {
   "display_name": "Python 3 (ipykernel)",
   "language": "python",
   "name": "python3"
  },
  "language_info": {
   "codemirror_mode": {
    "name": "ipython",
    "version": 3
   },
   "file_extension": ".py",
   "mimetype": "text/x-python",
   "name": "python",
   "nbconvert_exporter": "python",
   "pygments_lexer": "ipython3",
   "version": "3.11.5"
  }
 },
 "nbformat": 4,
 "nbformat_minor": 5
}
